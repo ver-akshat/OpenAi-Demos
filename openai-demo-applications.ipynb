{
 "cells": [
  {
   "cell_type": "code",
   "execution_count": 2,
   "metadata": {},
   "outputs": [],
   "source": [
    "from openai import OpenAI\n",
    "client=OpenAI()"
   ]
  },
  {
   "cell_type": "code",
   "execution_count": 9,
   "metadata": {},
   "outputs": [],
   "source": [
    "def comp(PROMPT,MaxToken=70,outputs=3):\n",
    "    response = client.completions.create( \n",
    "        model=\"gpt-3.5-turbo-instruct\", \n",
    "        # passing the user input  \n",
    "        prompt=PROMPT, \n",
    "        # generated output can have \"max_tokens\" number of tokens  \n",
    "        max_tokens=MaxToken, \n",
    "        # number of outputs generated in one call \n",
    "        n=outputs \n",
    "    ) \n",
    "    # creating a list to store all the outputs \n",
    "    print(response.choices[0].text)\n"
   ]
  },
  {
   "cell_type": "markdown",
   "metadata": {},
   "source": [
    "#### Some Examples"
   ]
  },
  {
   "cell_type": "code",
   "execution_count": 47,
   "metadata": {},
   "outputs": [
    {
     "name": "stdout",
     "output_type": "stream",
     "text": [
      "\n",
      "Worker: I'm sorry ma'am, as I said we don't have any hair dryers at the moment. \n",
      "Client: (disappointed) Oh, that's too bad. \n",
      "Worker: Is there something else you're looking for? Maybe I can help you find something similar. \n",
      "Client: No, it's alright. I'll just try somewhere else. \n",
      "Worker: (smiling) Actually, I can offer you something even better. \n",
      "Client: (perplexed) What do you mean? \n",
      "Worker: (excitedly) We just received a brand new product that will blow you away...literally. It's a hair dryer that also straightens and curls your hair at the same time. \n",
      "Client: (excited) Really?! That sounds amazing! \n",
      "Worker: (proudly) Yes, it's a revolutionary product. I'll show you to our beauty section, where you can see it for yourself. \n",
      "Client: (grateful) Thank you so much for your help. I'm glad I came here today. \n",
      "Worker: (smiling) Our pleasure, ma'am. And may I say, your hair is going to look fabulous!\n"
     ]
    }
   ],
   "source": [
    "PROMPT = \"\"\"Complete the below conversation between a client and a worker. \n",
    "Make the conversation have a wholesome plot twist. \n",
    "Conversation : ### \n",
    "Client: I want a hair dryer. \n",
    "Worker: I don't have any hair dryers. \n",
    "Client: But I want hair dryer. \n",
    "Worker: \n",
    "### \n",
    "\"\"\"\n",
    "comp(PROMPT, MaxToken=3000, outputs=1)"
   ]
  },
  {
   "cell_type": "code",
   "execution_count": 13,
   "metadata": {},
   "outputs": [
    {
     "name": "stdout",
     "output_type": "stream",
     "text": [
      "\n",
      "Punjabi: ਅੱਜ ਦੀ ਦੌਰਾਨ ਲੋਕਾਂ ਨੂੰ ਕਦੇ ਤੋਂ ਵੀ ਅਧਿਕ ਤਕਨੀਕੀ ਤੋਂ ਅਧੀਕ ਨਿਰਭਰ ਹੈ।\n",
      "French: De nos jours, les gens sont de plus en plus dépendants de la technologie.\n",
      "Hindi: आजकल लोग किसी भी समय से भी तकनीक पर अधिक निर्भर हैं। \n"
     ]
    }
   ],
   "source": [
    "PROMPT = \"\"\" \n",
    "Translate the below text in Punjabi,French and Hindi. \n",
    "Text:### \n",
    "Nowadays people are more dependent on technology than ever. \n",
    "### \n",
    "\"\"\"\n",
    "comp(PROMPT, MaxToken=3000, outputs=1)"
   ]
  },
  {
   "cell_type": "code",
   "execution_count": 14,
   "metadata": {},
   "outputs": [
    {
     "name": "stdout",
     "output_type": "stream",
     "text": [
      "\n",
      "1. Ambala district\n",
      "2. Bhiwani district\n",
      "3. Charkhi Dadri district\n",
      "4. Faridabad district\n",
      "5. Fatehabad district\n",
      "6. Gurugram district\n",
      "7. Hisar district\n",
      "8. Jhajjar district\n",
      "9. Jind district\n",
      "10. Kaithal district\n",
      "11. Karnal district\n",
      "12. Kurukshetra district\n",
      "13. Mahendragarh district\n",
      "14. Nuh district\n",
      "15. Palwal district\n",
      "16. Panchkula district\n",
      "17. Panipat district\n",
      "18. Rewari district\n",
      "19. Rohtak district\n",
      "20. Sirsa district\n",
      "21. Sonipat district\n",
      "22. Yamunanagar district\n"
     ]
    }
   ],
   "source": [
    "PROMPT = \"\"\" \n",
    "What are all districts in Haryana,India?\n",
    "\"\"\"\n",
    "comp(PROMPT, MaxToken=3000, outputs=1) "
   ]
  },
  {
   "cell_type": "code",
   "execution_count": 45,
   "metadata": {},
   "outputs": [],
   "source": [
    "import openai\n",
    "def chat(MSGS, MaxToken=10): \n",
    "    # We use the Chat Completion endpoint for chat like inputs \n",
    "    response = client.chat.completions.create( \n",
    "        model=\"gpt-3.5-turbo\", \n",
    "        # passing the user input  \n",
    "        messages=MSGS, \n",
    "        # generated output can have \"max_tokens\" number of tokens  \n",
    "        max_tokens=MaxToken, \n",
    "    )  \n",
    "    \n",
    "    return response.choices[0].message.content"
   ]
  },
  {
   "cell_type": "code",
   "execution_count": 46,
   "metadata": {},
   "outputs": [
    {
     "data": {
      "text/plain": [
       "'Sure! A Convolutional Neural Network (CNN) is a type of deep neural network that is commonly used for analyzing visual imagery. CNNs are typically used for tasks such as image recognition, object detection, and image segmentation.\\n\\nCNNs are designed to automatically and adaptively learn spatial hierarchies of features from the input data. This means that the network is able to recognize patterns in the input image at different levels of abstraction. The key components of a CNN include convolutional layers, pooling layers'"
      ]
     },
     "execution_count": 46,
     "metadata": {},
     "output_type": "execute_result"
    }
   ],
   "source": [
    "ch = [ \n",
    "        {\"role\": \"user\", \"content\": \"Can you tell me something about CNN\"}, \n",
    "      {\"role\": \"assistant\", \"content\": \"Yes, Its known as COnvolutional neural neto=works,used in computer vision.\"}, \n",
    "      {\"role\": \"user\", \"content\": \"Can you tell me in detail about CNN\"} \n",
    "  \n",
    "    ] \n",
    "  \n",
    "chat(ch, MaxToken=100)"
   ]
  },
  {
   "cell_type": "markdown",
   "metadata": {},
   "source": [
    "#### Many other tasks can also be performed by OpenAI API"
   ]
  },
  {
   "cell_type": "markdown",
   "metadata": {},
   "source": []
  }
 ],
 "metadata": {
  "kernelspec": {
   "display_name": "Python 3",
   "language": "python",
   "name": "python3"
  },
  "language_info": {
   "codemirror_mode": {
    "name": "ipython",
    "version": 3
   },
   "file_extension": ".py",
   "mimetype": "text/x-python",
   "name": "python",
   "nbconvert_exporter": "python",
   "pygments_lexer": "ipython3",
   "version": "3.11.5"
  }
 },
 "nbformat": 4,
 "nbformat_minor": 2
}
